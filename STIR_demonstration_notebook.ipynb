{
 "cells": [
  {
   "cell_type": "markdown",
   "metadata": {},
   "source": [
    "# SIMIND MonteCarlo Simulation with SIRF Integration"
   ]
  },
  {
   "cell_type": "code",
   "execution_count": null,
   "metadata": {},
   "outputs": [],
   "source": [
    "# Import the necessary modules\n",
    "from sirf.STIR import (ImageData, AcquisitionData, MessageRedirector)\n",
    "from src.simulator import SimindSimulator\n",
    "import matplotlib.pyplot as plt\n",
    "from matplotlib.gridspec import GridSpec\n",
    "import pandas as pd\n",
    "import os\n",
    "import numpy as np"
   ]
  },
  {
   "cell_type": "code",
   "execution_count": null,
   "metadata": {},
   "outputs": [],
   "source": [
    "# Redirect STIR messages\n",
    "msg = MessageRedirector()\n",
    "\n",
    "# We'll hardcode these for the purpose of this notebook. There are some scripts available in the `scripts` folder to run the demonstration for different isotopes.\n",
    "total_activity = 258.423  # in MBq\n",
    "time_per_projection = 43  # in seconds\n",
    "photon_multiplier = 1 # controls the number of photons simulated\n",
    "photopeak_energy = 208  # keV\n",
    "window_lower = [176.54, 187.56, 229.31]  # keV\n",
    "window_upper = [187.46, 229.24, 243.49]  # keV\n",
    "source_type = 'lu177' \n",
    "collimator = 'G8-MEGP'\n",
    "kev_per_channel = 10.0\n",
    "max_energy = 498.3\n",
    "mu_map_path = 'data/Lu177/registered_CTAC.hv'\n",
    "image_path = 'data/Lu177/osem_image.hv' # we will use the OSEM image as an estimate of the activity distribution\n",
    "measured_data_path = 'data/Lu177/SPECTCT_NEMA_128_EM001_DS_en_1_Lu177_EM.hdr'\n",
    "measured_additive = 'data/Lu177/tew_scatter.hs'\n",
    "output_dir = 'simind_output'\n",
    "output_prefix = 'output'\n",
    "input_smc_file_path = 'input/input.smc'\n",
    "scoring_routine = 1\n",
    "collimator_routine = 0 # Faster collimator routune using analytical weighting\n",
    "photon_direction = 2 # Only model photons that are within a solid angle defined by the collimator\n",
    "crystal_thickness = 7.25  # mm\n",
    "crystal_half_length_radius = 393.6 / 2  # mm\n",
    "crystal_half_width = 511.7 / 2  # mm\n",
    "flag_11 = True\n",
    "\n",
    "# Calculating the number of energy spectra channels\n",
    "num_energy_spectra_channels = max_energy // kev_per_channel"
   ]
  },
  {
   "cell_type": "markdown",
   "metadata": {},
   "source": [
    "Let's load the sirf data objects that we'll need for the simulation. These are:\n",
    "- A source image\n",
    "- Some measured data\n",
    "- An attenuation coefficent map (optional)"
   ]
  },
  {
   "cell_type": "code",
   "execution_count": null,
   "metadata": {},
   "outputs": [],
   "source": [
    "# Load image, mu_map, measured data, and measured additive data\n",
    "image = ImageData(image_path)\n",
    "mu_map = ImageData(mu_map_path)\n",
    "measured_data = AcquisitionData(measured_data_path)\n",
    "measured_additive = AcquisitionData(measured_additive)\n",
    "\n",
    "# Adjusting mu_map for STIR\n",
    "mu_map_stir = mu_map.clone()\n",
    "mu_map_stir.fill(np.flip(mu_map.as_array(), axis=2))"
   ]
  },
  {
   "cell_type": "markdown",
   "metadata": {},
   "source": [
    "Now we'll set up the simulator as well as the SIMIND indices, flags and runtime switches that we require"
   ]
  },
  {
   "cell_type": "code",
   "execution_count": null,
   "metadata": {},
   "outputs": [],
   "source": [
    "# Set up the SIMIND simulator. This takes some values from the input files such as number of projections, voxel sizes, etc.\n",
    "simulator = SimindSimulator(template_smc_file_path=input_smc_file_path,\n",
    "                            output_dir=output_dir, output_prefix=output_prefix,\n",
    "                            source=image, mu_map=mu_map, template_sinogram=measured_data)\n",
    "\n",
    "# Add a comment to the simulation\n",
    "simulator.add_comment(\"Demonstration of SIMIND simulation\")\n",
    "\n",
    "# Set the energy windows that we want to simulate. The third argument is the number of scatter orders that we want to simulate.\n",
    "simulator.set_windows(window_lower, window_upper, [0]*len(window_lower))\n",
    "\n",
    "# Set SIMIND indices that we want to change from the input SMC file\n",
    "simulator.add_index(\"photon_energy\", photopeak_energy)\n",
    "simulator.add_index(\"scoring_routine\", scoring_routine)\n",
    "simulator.add_index(\"collimator_routine\", collimator_routine)\n",
    "simulator.add_index(\"photon_direction\", photon_direction)\n",
    "simulator.add_index(\"source_activity\", total_activity * time_per_projection)\n",
    "simulator.add_index(\"crystal_thickness\", crystal_thickness / 10)  # cm\n",
    "simulator.add_index(\"crystal_half_length_radius\", crystal_half_length_radius / 10)  # cm\n",
    "simulator.add_index(\"crystal_half_width\", crystal_half_width / 10)  # cm\n",
    "simulator.add_index(\"step_size_photon_path_simulation\", min(*image.voxel_sizes()) / 10)  # cm\n",
    "simulator.add_index(\"energy_resolution\", 9.5)  # percent\n",
    "simulator.add_index(\"intrinsic_resolution\", 0.31)  # cm\n",
    "\n",
    "# Set flags that we want to change form the input SMC file\n",
    "simulator.config.set_flag(11, flag_11) # set flag 11 to use a collimator\n",
    "\n",
    "# Set runtime switches - these will not update the SMC file but will be used during the simulation\n",
    "simulator.add_runtime_switch(\"CC\", collimator) # this sets the collimator type to a list of predefined collimators in smc_dir/collim.col\n",
    "simulator.add_runtime_switch(\"NN\", photon_multiplier) # This controls the number of simulated photons\n",
    "simulator.add_runtime_switch(\"FI\", source_type) # This sets the isotope type"
   ]
  },
  {
   "cell_type": "markdown",
   "metadata": {},
   "source": [
    "We can check the current SIMIND configuration by either using `simulator.config.get_value()` or by printing the entire configuration"
   ]
  },
  {
   "cell_type": "code",
   "execution_count": null,
   "metadata": {},
   "outputs": [],
   "source": [
    "simulator.config.print_config()"
   ]
  },
  {
   "cell_type": "markdown",
   "metadata": {},
   "source": [
    "And now we can run the simulation. This will save a new configuration (.smc) file in the output folder."
   ]
  },
  {
   "cell_type": "code",
   "execution_count": null,
   "metadata": {},
   "outputs": [],
   "source": [
    "simulator.run_simulation()"
   ]
  },
  {
   "cell_type": "code",
   "execution_count": null,
   "metadata": {},
   "outputs": [],
   "source": [
    "# Retrieve simulation outputs\n",
    "simind_total = simulator.get_output_total(2)\n",
    "simind_scatter = simulator.get_output_scatter(2)\n",
    "simind_true = simind_total - simind_scatter"
   ]
  },
  {
   "cell_type": "code",
   "execution_count": null,
   "metadata": {},
   "outputs": [],
   "source": [
    "# Define the data to be plotted\n",
    "data_list = [\n",
    "    ((simind_total), \"simind total\"),\n",
    "    ((measured_data), \"measured total\"),\n",
    "    ((simind_true), \"simind true\"),\n",
    "    ((measured_data-measured_additive), \"measured true\"),\n",
    "    ((simind_scatter), \"simind scatter\"),\n",
    "    ((measured_additive), \"scatter estimate\"),\n",
    "]\n",
    "\n",
    "data_list = [(data.as_array(), title) for data, title in data_list]\n",
    "\n",
    "# Plot the axial slice\n",
    "axial_slice = 66\n",
    "vmax = max([data[0][axial_slice].max() for data, _ in data_list])\n",
    "\n",
    "# Define consistent font size and colormap\n",
    "font_size = 14\n",
    "colormap = 'viridis'\n",
    "\n",
    "# Create a figure and a GridSpec with 3 rows\n",
    "fig = plt.figure(figsize=(len(data_list) * 4, 7 * 2))\n",
    "gs = GridSpec(3, len(data_list), height_ratios=[2, 0.15, 3])  # Adjusted GridSpec for clarity\n",
    "\n",
    "# Create image subplots\n",
    "ax_images = [fig.add_subplot(gs[0, i]) for i in range(len(data_list))]\n",
    "\n",
    "for i, (data, title) in enumerate(data_list):\n",
    "    im = ax_images[i].imshow(data[0, axial_slice], vmin=0, vmax=vmax, cmap=colormap)\n",
    "    ax_images[i].set_title(f\"{title}\", fontsize=font_size)\n",
    "    ax_images[i].axis('off')\n",
    "\n",
    "# Create a colorbar\n",
    "cbar_ax = fig.add_subplot(gs[1, :])\n",
    "fig.colorbar(im, cax=cbar_ax, orientation='horizontal', pad=0.02)\n",
    "cbar_ax.set_xlabel('Counts', fontsize=font_size)\n",
    "cbar_ax.xaxis.set_label_position('top')\n",
    "\n",
    "# Plot the line plot\n",
    "ax_line = fig.add_subplot(gs[2, :])\n",
    "# one colour for total, true and scatter. Different shade for SIMIND and measured\n",
    "colours = ['blue', 'lightblue', 'green', 'lightgreen', 'red', 'pink']\n",
    "for i, (data, title) in enumerate(data_list):\n",
    "    ax_line.plot(data[0, axial_slice][60], linewidth=2, color=colours[i], linestyle='-', label=title)\n",
    "\n",
    "# Enhance the line plot appearance\n",
    "ax_line.set_xlabel('Projection angle', fontsize=font_size)\n",
    "ax_line.set_ylabel('Intensity', fontsize=font_size)\n",
    "ax_line.set_title(f'Profile Through Sinogram', fontsize=font_size + 2)\n",
    "ax_line.grid(True, which='both', linestyle='--', linewidth=0.5)\n",
    "ax_line.legend(loc='upper left', fontsize=font_size)\n",
    "ax_line.set_xlim(0, 128)"
   ]
  },
  {
   "cell_type": "code",
   "execution_count": null,
   "metadata": {},
   "outputs": [],
   "source": [
    "coronal_slice = 64\n",
    "# Create coronal subplots\n",
    "ax_coronal = [fig.add_subplot(gs[2, i]) for i in range(len(data_list))]\n",
    "vmax = max([data[0][coronal_slice].max() for data, _ in data_list])\n",
    "\n",
    "# Create a figure and a GridSpec with 3 rows\n",
    "fig = plt.figure(figsize=(len(data_list) * 4, 7 * 2))\n",
    "gs = GridSpec(3, len(data_list), height_ratios=[2, 0.15, 3])  # Adjusted GridSpec for clarity\n",
    "\n",
    "# Create image subplots\n",
    "ax_images = [fig.add_subplot(gs[0, i]) for i in range(len(data_list))]\n",
    "\n",
    "for i, (data, title) in enumerate(data_list):\n",
    "    im = ax_images[i].imshow(data[0, :, coronal_slice], vmin=0, vmax=vmax, cmap=colormap)\n",
    "    ax_images[i].set_title(f\"{title} \", fontsize=font_size)\n",
    "    ax_images[i].axis('off')\n",
    "\n",
    "# Create a colorbar\n",
    "cbar_ax = fig.add_subplot(gs[1, :])\n",
    "fig.colorbar(im, cax=cbar_ax, orientation='horizontal', pad=0.02)\n",
    "cbar_ax.set_xlabel('Counts', fontsize=font_size)\n",
    "cbar_ax.xaxis.set_label_position('top')\n",
    "\n",
    "# Plot the line plot\n",
    "ax_line = fig.add_subplot(gs[2, :])\n",
    "for i, (data, title) in enumerate(data_list):\n",
    "    ax_line.plot(data[0, :, coronal_slice][60], linewidth=2, color=colours[i], linestyle='-', label=title)\n",
    "\n",
    "# Enhance the line plot appearance\n",
    "ax_line.set_xlabel('Projection angle', fontsize=font_size)\n",
    "ax_line.set_ylabel('Intensity', fontsize=font_size)\n",
    "ax_line.set_title(f'Profile Through Sinogram', fontsize=font_size + 2)\n",
    "ax_line.grid(True, which='both', linestyle='--', linewidth=0.5)\n",
    "ax_line.legend(loc='upper left', fontsize=font_size)\n",
    "ax_line.set_xlim(0, 128)"
   ]
  },
  {
   "cell_type": "code",
   "execution_count": null,
   "metadata": {},
   "outputs": [],
   "source": []
  }
 ],
 "metadata": {
  "kernelspec": {
   "display_name": "Python 3",
   "language": "python",
   "name": "python3"
  },
  "language_info": {
   "codemirror_mode": {
    "name": "ipython"
   },
   "file_extension": ".py",
   "mimetype": "text/x-python",
   "name": "python",
   "nbconvert_exporter": "python"
  }
 },
 "nbformat": 4,
 "nbformat_minor": 2
}
